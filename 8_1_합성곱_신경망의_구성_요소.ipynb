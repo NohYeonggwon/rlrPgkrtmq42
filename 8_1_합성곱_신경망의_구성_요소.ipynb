{
  "cells": [
    {
      "cell_type": "markdown",
      "metadata": {
        "id": "view-in-github",
        "colab_type": "text"
      },
      "source": [
        "<a href=\"https://colab.research.google.com/github/NohYeonggwon/rlrPgkrtmq42/blob/main/8_1_%ED%95%A9%EC%84%B1%EA%B3%B1_%EC%8B%A0%EA%B2%BD%EB%A7%9D%EC%9D%98_%EA%B5%AC%EC%84%B1_%EC%9A%94%EC%86%8C.ipynb\" target=\"_parent\"><img src=\"https://colab.research.google.com/assets/colab-badge.svg\" alt=\"Open In Colab\"/></a>"
      ]
    },
    {
      "cell_type": "markdown",
      "metadata": {
        "id": "VsZV03UD5Qb5"
      },
      "source": [
        "# 합성곱 신경망의 구성 요소"
      ]
    },
    {
      "cell_type": "markdown",
      "source": [
        "##합성곱\n",
        "밀집층과 비슷하게 입력과 가중치를 곱하고 절편을 더하는 선형 계산이\n",
        "지만 밀집층과 달리 합성곱은 입력 데이터 전체에 가중치를 적용하는 것이 아니라\n",
        "일부에 가중치를 곱함"
      ],
      "metadata": {
        "id": "VBmEyHSQx-kt"
      }
    },
    {
      "cell_type": "markdown",
      "source": [
        "합성곱 신경망에서는 완전 연결 신경망과 달리 뉴런을 필터 or 커널이라고도 부른다.\n",
        "\n",
        "**여기서 완전 연결 신경망이란?**\n",
        "> 7장에서 만들었던 신경망이다. 완전 연결 층 즉, 밀집층만 사용하여 만든 신경망을 완전 연결 신경망 or 밀집 신경망이라고 부른다.\n",
        "\n"
      ],
      "metadata": {
        "id": "Nm5ikboX1qDc"
      }
    },
    {
      "cell_type": "markdown",
      "source": [
        "특성 맵 - 합성곱 계산을 통해 얻은 출력"
      ],
      "metadata": {
        "id": "-wEe4IiB2Iqy"
      }
    },
    {
      "cell_type": "markdown",
      "source": [
        "## 케라스 합성곱 층\n",
        "케라스의 층은 모두 keras.layers 패키지 아래 클래스로 구현되어 있다. 합성곱 층도 마찬가지이다. 특별히 입력 위를 이동하는 합성곱은 Conv2D 클래스로 제공한다.\n",
        "\n",
        "Conv2D 클래스의 첫 번째 매개변수는 필터의 개수이다. kernel_size 매개변수는 필터에 사용할 커널의 크기를 지정한다. 필터의 개수와 커널의 크기는 반드시 지정해야 하는 매개변수이다.\n",
        "\n",
        "마지막으로 밀집층에서처럼 활성화 함수를 지정한다. 여기서는 렐루 함수를 선택."
      ],
      "metadata": {
        "id": "Tl5jV2hG2T2_"
      }
    },
    {
      "cell_type": "markdown",
      "source": [
        "**특성 맵은 활성화 함수를 적용하기 전인가, 후인가?**\n",
        "> 후라고 할 수 있다. 완전 연결 신경망에서처럼 합성곱 신경망에서도 종종 활성화 함수를 언급하지 않는다. 일반적으로 특성 맵은 활성화 함수를 통과한 값을 나타낸다. 합성곱에선 활성화 출력이란 표현을 잘 쓰지 않는다.\n",
        "\n",
        "\n",
        "**커널의 크기는 어떻게 정하는지**\n",
        "> 커널의 크기는 하이퍼파라미터이다. 따라서 여러 가지 값을 시도해 봐야 알 수 있다. 하지만 보통 (3, 3) 이나 (5, 5) 크기가 권장된다.\n"
      ],
      "metadata": {
        "id": "t8w-Db3V24gk"
      }
    },
    {
      "cell_type": "markdown",
      "source": [
        "### 패딩과 스트라이드\n",
        "입력 배열의 주위를 가상의 원소(보통 0)로 채우는 것을 패딩이라고 하고 합성곱 신경망에서는 세임 패딩을 많이 사용함\n",
        "\n",
        "밸리드 패딩 - 패딩 없이 순수한 입력 배열에서만 합성곱을 하여 특성 맵을 만드는 경우이며 특성 맵의 크기가 줄어들 수밖에 없음"
      ],
      "metadata": {
        "id": "_68ckFjR3eFf"
      }
    },
    {
      "cell_type": "markdown",
      "source": [
        "### 풀링\n",
        "합성곱 층에서 만든 특성 맵의 가로세로 크기를 줄이는 역할을 수행하지만 특성 맵의 개수는 줄이지 않음. 또한 가중치가 없는 대신 특성 맵에서 최댓값이나 평균값을 선택함"
      ],
      "metadata": {
        "id": "mK1WA-ia3y1U"
      }
    },
    {
      "cell_type": "markdown",
      "source": [
        "**최대 풀링과 평균 풀링**\n",
        "\n",
        "풀링을 수행할 때 가장 큰 값을 고르거나 평균값을 계산하는데 이를 각각 최대 풀\n",
        "링과 평균 풀링이라고 부름\n",
        "\n",
        "합성곱 신경망에서는 합성곱 층과 풀링 층에서 출력되는 값을 모두 특성 맵이라고 부른다."
      ],
      "metadata": {
        "id": "K9Xia0aP35lY"
      }
    }
  ],
  "metadata": {
    "accelerator": "GPU",
    "colab": {
      "provenance": [],
      "include_colab_link": true
    },
    "kernelspec": {
      "display_name": "default:Python",
      "language": "python",
      "name": "conda-env-default-py"
    },
    "language_info": {
      "codemirror_mode": {
        "name": "ipython",
        "version": 3
      },
      "file_extension": ".py",
      "mimetype": "text/x-python",
      "name": "python",
      "nbconvert_exporter": "python",
      "pygments_lexer": "ipython3",
      "version": "3.9.10"
    }
  },
  "nbformat": 4,
  "nbformat_minor": 0
}